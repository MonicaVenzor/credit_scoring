{
 "cells": [
  {
   "cell_type": "markdown",
   "id": "6872cf1a-2b18-44b2-8a01-282f444432a8",
   "metadata": {},
   "source": [
    "# Project 2: Credit Scoring Prediction"
   ]
  },
  {
   "cell_type": "markdown",
   "id": "a606bcf1-7a22-4f1b-a4db-cd46f6e86a61",
   "metadata": {},
   "source": [
    "## Objective: Predict loan default risk using machine learning."
   ]
  },
  {
   "cell_type": "markdown",
   "id": "c9e17a68-dc24-4740-9af4-3b9d97312957",
   "metadata": {},
   "source": [
    "Dataset: https://www.kaggle.com/competitions/GiveMeSomeCredit/data"
   ]
  },
  {
   "cell_type": "markdown",
   "id": "4ab0f377-fddd-41f7-b863-0cb49d789b5b",
   "metadata": {},
   "source": [
    "## EDA Analysis Load and Explore Data"
   ]
  },
  {
   "cell_type": "markdown",
   "id": "7312cea8-d8a6-47a7-807d-21815eeb7df3",
   "metadata": {},
   "source": [
    "### Imports"
   ]
  },
  {
   "cell_type": "code",
   "execution_count": 18,
   "id": "f1299897-28b7-4cf7-ba6d-229dde407ec9",
   "metadata": {},
   "outputs": [],
   "source": [
    "import pandas as pd\n",
    "import numpy as np\n",
    "import matplotlib.pyplot as plt\n",
    "import seaborn as sns\n",
    "from sklearn.model_selection import train_test_split, GridSearchCV\n",
    "from sklearn.preprocessing import StandardScaler\n",
    "from sklearn.ensemble import RandomForestClassifier\n",
    "from sklearn.linear_model import LogisticRegression\n",
    "from xgboost import XGBClassifier\n",
    "from sklearn.metrics import f1_score, roc_auc_score, confusion_matrix\n",
    "import joblib"
   ]
  },
  {
   "cell_type": "code",
   "execution_count": 19,
   "id": "169a2280-0ea9-46fb-b534-a072c34ebcd9",
   "metadata": {},
   "outputs": [
    {
     "data": {
      "text/html": [
       "<div>\n",
       "<style scoped>\n",
       "    .dataframe tbody tr th:only-of-type {\n",
       "        vertical-align: middle;\n",
       "    }\n",
       "\n",
       "    .dataframe tbody tr th {\n",
       "        vertical-align: top;\n",
       "    }\n",
       "\n",
       "    .dataframe thead th {\n",
       "        text-align: right;\n",
       "    }\n",
       "</style>\n",
       "<table border=\"1\" class=\"dataframe\">\n",
       "  <thead>\n",
       "    <tr style=\"text-align: right;\">\n",
       "      <th></th>\n",
       "      <th>Unnamed: 0</th>\n",
       "      <th>SeriousDlqin2yrs</th>\n",
       "      <th>RevolvingUtilizationOfUnsecuredLines</th>\n",
       "      <th>age</th>\n",
       "      <th>NumberOfTime30-59DaysPastDueNotWorse</th>\n",
       "      <th>DebtRatio</th>\n",
       "      <th>MonthlyIncome</th>\n",
       "      <th>NumberOfOpenCreditLinesAndLoans</th>\n",
       "      <th>NumberOfTimes90DaysLate</th>\n",
       "      <th>NumberRealEstateLoansOrLines</th>\n",
       "      <th>NumberOfTime60-89DaysPastDueNotWorse</th>\n",
       "      <th>NumberOfDependents</th>\n",
       "    </tr>\n",
       "  </thead>\n",
       "  <tbody>\n",
       "    <tr>\n",
       "      <th>0</th>\n",
       "      <td>1</td>\n",
       "      <td>1</td>\n",
       "      <td>0.766127</td>\n",
       "      <td>45</td>\n",
       "      <td>2</td>\n",
       "      <td>0.802982</td>\n",
       "      <td>9120.0</td>\n",
       "      <td>13</td>\n",
       "      <td>0</td>\n",
       "      <td>6</td>\n",
       "      <td>0</td>\n",
       "      <td>2.0</td>\n",
       "    </tr>\n",
       "    <tr>\n",
       "      <th>1</th>\n",
       "      <td>2</td>\n",
       "      <td>0</td>\n",
       "      <td>0.957151</td>\n",
       "      <td>40</td>\n",
       "      <td>0</td>\n",
       "      <td>0.121876</td>\n",
       "      <td>2600.0</td>\n",
       "      <td>4</td>\n",
       "      <td>0</td>\n",
       "      <td>0</td>\n",
       "      <td>0</td>\n",
       "      <td>1.0</td>\n",
       "    </tr>\n",
       "    <tr>\n",
       "      <th>2</th>\n",
       "      <td>3</td>\n",
       "      <td>0</td>\n",
       "      <td>0.658180</td>\n",
       "      <td>38</td>\n",
       "      <td>1</td>\n",
       "      <td>0.085113</td>\n",
       "      <td>3042.0</td>\n",
       "      <td>2</td>\n",
       "      <td>1</td>\n",
       "      <td>0</td>\n",
       "      <td>0</td>\n",
       "      <td>0.0</td>\n",
       "    </tr>\n",
       "    <tr>\n",
       "      <th>3</th>\n",
       "      <td>4</td>\n",
       "      <td>0</td>\n",
       "      <td>0.233810</td>\n",
       "      <td>30</td>\n",
       "      <td>0</td>\n",
       "      <td>0.036050</td>\n",
       "      <td>3300.0</td>\n",
       "      <td>5</td>\n",
       "      <td>0</td>\n",
       "      <td>0</td>\n",
       "      <td>0</td>\n",
       "      <td>0.0</td>\n",
       "    </tr>\n",
       "    <tr>\n",
       "      <th>4</th>\n",
       "      <td>5</td>\n",
       "      <td>0</td>\n",
       "      <td>0.907239</td>\n",
       "      <td>49</td>\n",
       "      <td>1</td>\n",
       "      <td>0.024926</td>\n",
       "      <td>63588.0</td>\n",
       "      <td>7</td>\n",
       "      <td>0</td>\n",
       "      <td>1</td>\n",
       "      <td>0</td>\n",
       "      <td>0.0</td>\n",
       "    </tr>\n",
       "  </tbody>\n",
       "</table>\n",
       "</div>"
      ],
      "text/plain": [
       "   Unnamed: 0  SeriousDlqin2yrs  RevolvingUtilizationOfUnsecuredLines  age  \\\n",
       "0           1                 1                              0.766127   45   \n",
       "1           2                 0                              0.957151   40   \n",
       "2           3                 0                              0.658180   38   \n",
       "3           4                 0                              0.233810   30   \n",
       "4           5                 0                              0.907239   49   \n",
       "\n",
       "   NumberOfTime30-59DaysPastDueNotWorse  DebtRatio  MonthlyIncome  \\\n",
       "0                                     2   0.802982         9120.0   \n",
       "1                                     0   0.121876         2600.0   \n",
       "2                                     1   0.085113         3042.0   \n",
       "3                                     0   0.036050         3300.0   \n",
       "4                                     1   0.024926        63588.0   \n",
       "\n",
       "   NumberOfOpenCreditLinesAndLoans  NumberOfTimes90DaysLate  \\\n",
       "0                               13                        0   \n",
       "1                                4                        0   \n",
       "2                                2                        1   \n",
       "3                                5                        0   \n",
       "4                                7                        0   \n",
       "\n",
       "   NumberRealEstateLoansOrLines  NumberOfTime60-89DaysPastDueNotWorse  \\\n",
       "0                             6                                     0   \n",
       "1                             0                                     0   \n",
       "2                             0                                     0   \n",
       "3                             0                                     0   \n",
       "4                             1                                     0   \n",
       "\n",
       "   NumberOfDependents  \n",
       "0                 2.0  \n",
       "1                 1.0  \n",
       "2                 0.0  \n",
       "3                 0.0  \n",
       "4                 0.0  "
      ]
     },
     "execution_count": 19,
     "metadata": {},
     "output_type": "execute_result"
    }
   ],
   "source": [
    "# Load dataset\n",
    "file_path = \"data/cs-training.csv\"\n",
    "df = pd.read_csv(file_path)\n",
    "\n",
    "# Display first rows\n",
    "df.head()"
   ]
  },
  {
   "cell_type": "code",
   "execution_count": 20,
   "id": "41fba1f0-a25d-4dc8-84a7-10c8d2e4ae82",
   "metadata": {},
   "outputs": [
    {
     "name": "stdout",
     "output_type": "stream",
     "text": [
      "<class 'pandas.core.frame.DataFrame'>\n",
      "RangeIndex: 150000 entries, 0 to 149999\n",
      "Data columns (total 12 columns):\n",
      " #   Column                                Non-Null Count   Dtype  \n",
      "---  ------                                --------------   -----  \n",
      " 0   Unnamed: 0                            150000 non-null  int64  \n",
      " 1   SeriousDlqin2yrs                      150000 non-null  int64  \n",
      " 2   RevolvingUtilizationOfUnsecuredLines  150000 non-null  float64\n",
      " 3   age                                   150000 non-null  int64  \n",
      " 4   NumberOfTime30-59DaysPastDueNotWorse  150000 non-null  int64  \n",
      " 5   DebtRatio                             150000 non-null  float64\n",
      " 6   MonthlyIncome                         120269 non-null  float64\n",
      " 7   NumberOfOpenCreditLinesAndLoans       150000 non-null  int64  \n",
      " 8   NumberOfTimes90DaysLate               150000 non-null  int64  \n",
      " 9   NumberRealEstateLoansOrLines          150000 non-null  int64  \n",
      " 10  NumberOfTime60-89DaysPastDueNotWorse  150000 non-null  int64  \n",
      " 11  NumberOfDependents                    146076 non-null  float64\n",
      "dtypes: float64(4), int64(8)\n",
      "memory usage: 13.7 MB\n"
     ]
    }
   ],
   "source": [
    "# Check dataset information\n",
    "df.info()"
   ]
  },
  {
   "cell_type": "code",
   "execution_count": 21,
   "id": "6d93f00d-01b4-4154-ad1d-d35657e8a94b",
   "metadata": {},
   "outputs": [
    {
     "name": "stdout",
     "output_type": "stream",
     "text": [
      "Unnamed: 0                                  0\n",
      "SeriousDlqin2yrs                            0\n",
      "RevolvingUtilizationOfUnsecuredLines        0\n",
      "age                                         0\n",
      "NumberOfTime30-59DaysPastDueNotWorse        0\n",
      "DebtRatio                                   0\n",
      "MonthlyIncome                           29731\n",
      "NumberOfOpenCreditLinesAndLoans             0\n",
      "NumberOfTimes90DaysLate                     0\n",
      "NumberRealEstateLoansOrLines                0\n",
      "NumberOfTime60-89DaysPastDueNotWorse        0\n",
      "NumberOfDependents                       3924\n",
      "dtype: int64\n"
     ]
    }
   ],
   "source": [
    "# Check missing values\n",
    "print(df.isnull().sum())"
   ]
  },
  {
   "cell_type": "markdown",
   "id": "80e4ddf2-ba68-4eb5-a654-9e02525d188e",
   "metadata": {},
   "source": [
    "MonthlyIncome → Fill with median (since income distribution is usually skewed).\n",
    "\n",
    "NumberOfDependents → Fill with 0 (assuming missing means no dependents).\n",
    "\n",
    "Drop Unnamed: 0 since it's just an index column."
   ]
  },
  {
   "cell_type": "markdown",
   "id": "c5aba63d-53da-40fc-a15f-d953e5c31901",
   "metadata": {},
   "source": [
    "### Handle Missing Values"
   ]
  },
  {
   "cell_type": "code",
   "execution_count": 22,
   "id": "3c6c7f0d-0903-495d-a23f-0a8b7c3bfb03",
   "metadata": {},
   "outputs": [
    {
     "name": "stdout",
     "output_type": "stream",
     "text": [
      "Missing values after imputation:\n",
      " SeriousDlqin2yrs                        0\n",
      "RevolvingUtilizationOfUnsecuredLines    0\n",
      "age                                     0\n",
      "NumberOfTime30-59DaysPastDueNotWorse    0\n",
      "DebtRatio                               0\n",
      "MonthlyIncome                           0\n",
      "NumberOfOpenCreditLinesAndLoans         0\n",
      "NumberOfTimes90DaysLate                 0\n",
      "NumberRealEstateLoansOrLines            0\n",
      "NumberOfTime60-89DaysPastDueNotWorse    0\n",
      "NumberOfDependents                      0\n",
      "dtype: int64\n"
     ]
    }
   ],
   "source": [
    "# Drop irrelevant column\n",
    "df.drop(columns=['Unnamed: 0'], inplace=True)\n",
    "\n",
    "# Fill missing values\n",
    "df['MonthlyIncome'].fillna(df['MonthlyIncome'].median(), inplace=True)\n",
    "df['NumberOfDependents'].fillna(0, inplace=True)\n",
    "\n",
    "# Verify there are no missing values left\n",
    "print(\"Missing values after imputation:\\n\", df.isnull().sum())"
   ]
  },
  {
   "cell_type": "code",
   "execution_count": 23,
   "id": "b2454a0a-a63c-4f5a-bed8-039e360f7ba6",
   "metadata": {},
   "outputs": [
    {
     "data": {
      "image/png": "[encoded data removed]",
      "text/plain": [
       "<Figure size 640x480 with 1 Axes>"
      ]
     },
     "metadata": {},
     "output_type": "display_data"
    }
   ],
   "source": [
    "# Target variable distribution\n",
    "sns.countplot(x=df['SeriousDlqin2yrs'])\n",
    "plt.title(\"Class Distribution (0 = No Default, 1 = Default)\")\n",
    "plt.show()"
   ]
  },
  {
   "cell_type": "markdown",
   "id": "361f94c4-86a8-4c19-8170-9b20a50c59dc",
   "metadata": {},
   "source": [
    "## Feature Scaling\n",
    "\n",
    "Since some numerical features (like DebtRatio, RevolvingUtilizationOfUnsecuredLines) have different ranges, we need to scale them to improve model performance.\n",
    "\n",
    "Use StandardScaler to normalize numerical features.\n",
    "This ensures that all features are on the same scale, improving model convergence."
   ]
  },
  {
   "cell_type": "code",
   "execution_count": 24,
   "id": "25bf5dc7-c4d5-4162-b019-228a6a46cc8f",
   "metadata": {},
   "outputs": [
    {
     "data": {
      "text/html": [
       "<div>\n",
       "<style scoped>\n",
       "    .dataframe tbody tr th:only-of-type {\n",
       "        vertical-align: middle;\n",
       "    }\n",
       "\n",
       "    .dataframe tbody tr th {\n",
       "        vertical-align: top;\n",
       "    }\n",
       "\n",
       "    .dataframe thead th {\n",
       "        text-align: right;\n",
       "    }\n",
       "</style>\n",
       "<table border=\"1\" class=\"dataframe\">\n",
       "  <thead>\n",
       "    <tr style=\"text-align: right;\">\n",
       "      <th></th>\n",
       "      <th>RevolvingUtilizationOfUnsecuredLines</th>\n",
       "      <th>age</th>\n",
       "      <th>NumberOfTime30-59DaysPastDueNotWorse</th>\n",
       "      <th>DebtRatio</th>\n",
       "      <th>MonthlyIncome</th>\n",
       "      <th>NumberOfOpenCreditLinesAndLoans</th>\n",
       "      <th>NumberOfTimes90DaysLate</th>\n",
       "      <th>NumberRealEstateLoansOrLines</th>\n",
       "      <th>NumberOfTime60-89DaysPastDueNotWorse</th>\n",
       "      <th>NumberOfDependents</th>\n",
       "    </tr>\n",
       "  </thead>\n",
       "  <tbody>\n",
       "    <tr>\n",
       "      <th>0</th>\n",
       "      <td>-0.021150</td>\n",
       "      <td>-0.493860</td>\n",
       "      <td>0.376593</td>\n",
       "      <td>-0.172833</td>\n",
       "      <td>0.209579</td>\n",
       "      <td>0.883657</td>\n",
       "      <td>-0.063793</td>\n",
       "      <td>4.409546</td>\n",
       "      <td>-0.057852</td>\n",
       "      <td>1.140530</td>\n",
       "    </tr>\n",
       "    <tr>\n",
       "      <th>1</th>\n",
       "      <td>-0.020385</td>\n",
       "      <td>-0.832342</td>\n",
       "      <td>-0.100419</td>\n",
       "      <td>-0.173168</td>\n",
       "      <td>-0.296226</td>\n",
       "      <td>-0.865297</td>\n",
       "      <td>-0.063793</td>\n",
       "      <td>-0.901283</td>\n",
       "      <td>-0.057852</td>\n",
       "      <td>0.237202</td>\n",
       "    </tr>\n",
       "    <tr>\n",
       "      <th>2</th>\n",
       "      <td>-0.021582</td>\n",
       "      <td>-0.967735</td>\n",
       "      <td>0.138087</td>\n",
       "      <td>-0.173186</td>\n",
       "      <td>-0.261937</td>\n",
       "      <td>-1.253953</td>\n",
       "      <td>0.176056</td>\n",
       "      <td>-0.901283</td>\n",
       "      <td>-0.057852</td>\n",
       "      <td>-0.666126</td>\n",
       "    </tr>\n",
       "    <tr>\n",
       "      <th>3</th>\n",
       "      <td>-0.023281</td>\n",
       "      <td>-1.509307</td>\n",
       "      <td>-0.100419</td>\n",
       "      <td>-0.173210</td>\n",
       "      <td>-0.241922</td>\n",
       "      <td>-0.670969</td>\n",
       "      <td>-0.063793</td>\n",
       "      <td>-0.901283</td>\n",
       "      <td>-0.057852</td>\n",
       "      <td>-0.666126</td>\n",
       "    </tr>\n",
       "    <tr>\n",
       "      <th>4</th>\n",
       "      <td>-0.020585</td>\n",
       "      <td>-0.223074</td>\n",
       "      <td>0.138087</td>\n",
       "      <td>-0.173215</td>\n",
       "      <td>4.435064</td>\n",
       "      <td>-0.282312</td>\n",
       "      <td>-0.063793</td>\n",
       "      <td>-0.016145</td>\n",
       "      <td>-0.057852</td>\n",
       "      <td>-0.666126</td>\n",
       "    </tr>\n",
       "  </tbody>\n",
       "</table>\n",
       "</div>"
      ],
      "text/plain": [
       "   RevolvingUtilizationOfUnsecuredLines       age  \\\n",
       "0                             -0.021150 -0.493860   \n",
       "1                             -0.020385 -0.832342   \n",
       "2                             -0.021582 -0.967735   \n",
       "3                             -0.023281 -1.509307   \n",
       "4                             -0.020585 -0.223074   \n",
       "\n",
       "   NumberOfTime30-59DaysPastDueNotWorse  DebtRatio  MonthlyIncome  \\\n",
       "0                              0.376593  -0.172833       0.209579   \n",
       "1                             -0.100419  -0.173168      -0.296226   \n",
       "2                              0.138087  -0.173186      -0.261937   \n",
       "3                             -0.100419  -0.173210      -0.241922   \n",
       "4                              0.138087  -0.173215       4.435064   \n",
       "\n",
       "   NumberOfOpenCreditLinesAndLoans  NumberOfTimes90DaysLate  \\\n",
       "0                         0.883657                -0.063793   \n",
       "1                        -0.865297                -0.063793   \n",
       "2                        -1.253953                 0.176056   \n",
       "3                        -0.670969                -0.063793   \n",
       "4                        -0.282312                -0.063793   \n",
       "\n",
       "   NumberRealEstateLoansOrLines  NumberOfTime60-89DaysPastDueNotWorse  \\\n",
       "0                      4.409546                             -0.057852   \n",
       "1                     -0.901283                             -0.057852   \n",
       "2                     -0.901283                             -0.057852   \n",
       "3                     -0.901283                             -0.057852   \n",
       "4                     -0.016145                             -0.057852   \n",
       "\n",
       "   NumberOfDependents  \n",
       "0            1.140530  \n",
       "1            0.237202  \n",
       "2           -0.666126  \n",
       "3           -0.666126  \n",
       "4           -0.666126  "
      ]
     },
     "execution_count": 24,
     "metadata": {},
     "output_type": "execute_result"
    }
   ],
   "source": [
    "# Define features (X) and target (y)\n",
    "X = df.drop(columns=['SeriousDlqin2yrs'])  # All features except target\n",
    "y = df['SeriousDlqin2yrs']  # Target variable\n",
    "\n",
    "# Apply StandardScaler\n",
    "scaler = StandardScaler()\n",
    "X_scaled = scaler.fit_transform(X)  # Normalize numerical features\n",
    "\n",
    "# Convert scaled features back to DataFrame\n",
    "X_scaled = pd.DataFrame(X_scaled, columns=X.columns)\n",
    "\n",
    "# Display first few rows after scaling\n",
    "X_scaled.head()"
   ]
  },
  {
   "cell_type": "markdown",
   "id": "41adee56-174f-4bf1-a3b2-9ba15f7da3f8",
   "metadata": {},
   "source": [
    "## Train-Test Split\n",
    "\n",
    "Use 80% of the data for training and 20% for testing.\n",
    "Ensure stratified sampling (since our dataset is imbalanced)."
   ]
  },
  {
   "cell_type": "code",
   "execution_count": 25,
   "id": "de89bd88-2017-4597-8871-835d89f7c928",
   "metadata": {},
   "outputs": [
    {
     "name": "stdout",
     "output_type": "stream",
     "text": [
      "Training set: (120000, 10), (120000,)\n",
      "Testing set: (30000, 10), (30000,)\n"
     ]
    }
   ],
   "source": [
    "# Split data (80% train, 20% test)\n",
    "X_train, X_test, y_train, y_test = train_test_split(\n",
    "    X_scaled, y, test_size=0.2, random_state=42, stratify=y\n",
    ")\n",
    "\n",
    "# Display dataset shapes\n",
    "print(f\"Training set: {X_train.shape}, {y_train.shape}\")\n",
    "print(f\"Testing set: {X_test.shape}, {y_test.shape}\")"
   ]
  },
  {
   "cell_type": "markdown",
   "id": "7585c887-2d0e-4e4e-9130-06025a0ac40a",
   "metadata": {},
   "source": [
    "## Baseline Model Training\n",
    "\n",
    "Train a Logistic Regression model.\n",
    "Evaluate using F1-Score and AUC-ROC (since the dataset is imbalanced)."
   ]
  },
  {
   "cell_type": "code",
   "execution_count": 26,
   "id": "b77ce35e-b976-4731-b85c-7022643fccb5",
   "metadata": {},
   "outputs": [
    {
     "name": "stdout",
     "output_type": "stream",
     "text": [
      "Baseline Logistic Regression Performance:\n",
      "F1-Score: 0.0842\n",
      "AUC-ROC: 0.5215\n"
     ]
    }
   ],
   "source": [
    "# Initialize model\n",
    "logreg = LogisticRegression(random_state=42)\n",
    "\n",
    "# Train the model\n",
    "logreg.fit(X_train, y_train)\n",
    "\n",
    "# Predictions\n",
    "y_pred = logreg.predict(X_test)\n",
    "\n",
    "# Evaluate performance\n",
    "f1 = f1_score(y_test, y_pred)\n",
    "auc = roc_auc_score(y_test, y_pred)\n",
    "\n",
    "print(f\"Baseline Logistic Regression Performance:\")\n",
    "print(f\"F1-Score: {f1:.4f}\")\n",
    "print(f\"AUC-ROC: {auc:.4f}\")"
   ]
  },
  {
   "cell_type": "markdown",
   "id": "115624bb-0027-491d-b82d-3e5dea90429a",
   "metadata": {},
   "source": [
    "F1-Score: 0.8042\n",
    "AUC-ROC: 0.5215 (not great, meaning the model struggles with distinguishing between classes)."
   ]
  },
  {
   "cell_type": "markdown",
   "id": "5b66d3d1-8ab1-43a0-87a4-20d51091e771",
   "metadata": {},
   "source": [
    "## Train Advanced Models (Random Forest & XGBoost)\n",
    "\n",
    "✅ Random Forest → Handles non-linear relationships and feature importance well.\n",
    "✅ XGBoost → Powerful boosting algorithm that excels with structured data."
   ]
  },
  {
   "cell_type": "code",
   "execution_count": 27,
   "id": "047f79c7-fc49-4f42-a031-82397f6d6a65",
   "metadata": {},
   "outputs": [
    {
     "name": "stdout",
     "output_type": "stream",
     "text": [
      "Model Performance Comparison:\n",
      "Random Forest - F1-Score: 0.2767, AUC-ROC: 0.5865\n",
      "XGBoost - F1-Score: 0.2773, AUC-ROC: 0.5876\n"
     ]
    }
   ],
   "source": [
    "# Initialize models\n",
    "rf = RandomForestClassifier(n_estimators=100, random_state=42)\n",
    "xgb = XGBClassifier(use_label_encoder=False, eval_metric=\"logloss\", random_state=42)\n",
    "\n",
    "# Train models\n",
    "rf.fit(X_train, y_train)\n",
    "xgb.fit(X_train, y_train)\n",
    "\n",
    "# Predictions\n",
    "y_pred_rf = rf.predict(X_test)\n",
    "y_pred_xgb = xgb.predict(X_test)\n",
    "\n",
    "# Evaluate performance\n",
    "f1_rf = f1_score(y_test, y_pred_rf)\n",
    "auc_rf = roc_auc_score(y_test, y_pred_rf)\n",
    "\n",
    "f1_xgb = f1_score(y_test, y_pred_xgb)\n",
    "auc_xgb = roc_auc_score(y_test, y_pred_xgb)\n",
    "\n",
    "# Display results\n",
    "print(\"Model Performance Comparison:\")\n",
    "print(f\"Random Forest - F1-Score: {f1_rf:.4f}, AUC-ROC: {auc_rf:.4f}\")\n",
    "print(f\"XGBoost - F1-Score: {f1_xgb:.4f}, AUC-ROC: {auc_xgb:.4f}\")"
   ]
  },
  {
   "cell_type": "markdown",
   "id": "c88c02ee-09a7-4d5c-9b98-48660445e583",
   "metadata": {},
   "source": [
    "Observations\n",
    "\n",
    "\n",
    "Logistic Regression has the highest F1-Score, but its AUC-ROC is low, meaning it's not distinguishing well between classes.\n",
    "\n",
    "XGBoost has the highest AUC-ROC (0.5876), but still needs improvement.\n",
    "\n",
    "Random Forest and XGBoost perform similarly, but both are underperforming."
   ]
  },
  {
   "cell_type": "markdown",
   "id": "d85c42d6-fe2b-4098-8d41-acad227bd529",
   "metadata": {
    "tags": []
   },
   "source": [
    "## Hyperparameter Tuning\n",
    "\n",
    "To improve the models, we’ll tune XGBoost using GridSearchCV.\n",
    "\n",
    "🔍 What we will do:\n",
    "Optimize XGBoost hyperparameters (n_estimators, max_depth, learning_rate).\n",
    "Use GridSearchCV to find the best combination."
   ]
  },
  {
   "cell_type": "markdown",
   "id": "299ac3f5-ddd2-4744-8831-b98a6923e3f3",
   "metadata": {},
   "source": [
    "### Hyperparameter Tuning for XGBoost"
   ]
  },
  {
   "cell_type": "code",
   "execution_count": 28,
   "id": "7f98cb71-baf4-4887-b206-7ea1a1f02fc9",
   "metadata": {},
   "outputs": [
    {
     "name": "stdout",
     "output_type": "stream",
     "text": [
      "Best parameters for XGBoost: {'learning_rate': 0.1, 'max_depth': 3, 'n_estimators': 200}\n",
      "Optimized XGBoost - F1-Score: 0.3013, AUC-ROC: 0.5954\n"
     ]
    }
   ],
   "source": [
    "# Define parameter grid\n",
    "param_grid = {\n",
    "    'n_estimators': [100, 200, 300],\n",
    "    'max_depth': [3, 5, 7],\n",
    "    'learning_rate': [0.01, 0.1, 0.2]\n",
    "}\n",
    "\n",
    "# Initialize GridSearch\n",
    "grid_xgb = GridSearchCV(XGBClassifier(use_label_encoder=False, eval_metric=\"logloss\", random_state=42),\n",
    "                         param_grid, cv=3, scoring='roc_auc', n_jobs=-1)\n",
    "\n",
    "# Train GridSearch\n",
    "grid_xgb.fit(X_train, y_train)\n",
    "\n",
    "# Best parameters\n",
    "print(\"Best parameters for XGBoost:\", grid_xgb.best_params_)\n",
    "\n",
    "# Train best model\n",
    "best_xgb = grid_xgb.best_estimator_\n",
    "y_pred_best_xgb = best_xgb.predict(X_test)\n",
    "\n",
    "# Evaluate best XGBoost model\n",
    "f1_best_xgb = f1_score(y_test, y_pred_best_xgb)\n",
    "auc_best_xgb = roc_auc_score(y_test, y_pred_best_xgb)\n",
    "\n",
    "print(f\"Optimized XGBoost - F1-Score: {f1_best_xgb:.4f}, AUC-ROC: {auc_best_xgb:.4f}\")"
   ]
  },
  {
   "cell_type": "markdown",
   "id": "64c1b82f-646e-4df2-8167-2947ae4d8b90",
   "metadata": {},
   "source": [
    "Improvements:\n",
    "\n",
    "F1-Score increased from 0.2773 → 0.3013 ✅\n",
    "\n",
    "AUC-ROC improved slightly from 0.5876 → 0.5954 ✅\n",
    "\n",
    "There’s still room for improvement, but the tuning made the model slightly better at distinguishing between default & non-default cases."
   ]
  },
  {
   "cell_type": "markdown",
   "id": "5d396264-13a3-4eb7-892f-3735f25b0a0c",
   "metadata": {},
   "source": [
    "## Model Evaluation"
   ]
  },
  {
   "cell_type": "markdown",
   "id": "32bf2680-7f83-4429-943a-a3d48a35aaf4",
   "metadata": {},
   "source": [
    "Now, let's analyze the model’s predictions using: \n",
    "\n",
    "1️⃣ Confusion Matrix (to see how many correct & incorrect predictions the model made).\n",
    "\n",
    "2️⃣ Feature Importance (to understand which features influence predictions)."
   ]
  },
  {
   "cell_type": "code",
   "execution_count": 30,
   "id": "245e7c4b-54a1-4a96-9ca7-397555302516",
   "metadata": {},
   "outputs": [
    {
     "data": {
      "image/png": "[encoded data removed]",
      "text/plain": [
       "<Figure size 500x400 with 2 Axes>"
      ]
     },
     "metadata": {},
     "output_type": "display_data"
    },
    {
     "data": {
      "image/png": "[encoded data removed]",
      "text/plain": [
       "<Figure size 800x500 with 1 Axes>"
      ]
     },
     "metadata": {},
     "output_type": "display_data"
    }
   ],
   "source": [
    "# Confusion Matrix\n",
    "conf_matrix = confusion_matrix(y_test, y_pred_best_xgb)\n",
    "\n",
    "plt.figure(figsize=(5, 4))\n",
    "sns.heatmap(conf_matrix, annot=True, fmt='d', cmap='Blues', xticklabels=[\"No Default\", \"Default\"], yticklabels=[\"No Default\", \"Default\"])\n",
    "plt.xlabel(\"Predicted\")\n",
    "plt.ylabel(\"Actual\")\n",
    "plt.title(\"Confusion Matrix - XGBoost\")\n",
    "plt.show()\n",
    "\n",
    "# Feature Importance\n",
    "plt.figure(figsize=(8, 5))\n",
    "sns.barplot(x=best_xgb.feature_importances_, y=X.columns)\n",
    "plt.xlabel(\"Feature Importance Score\")\n",
    "plt.ylabel(\"Features\")\n",
    "plt.title(\"Feature Importance - XGBoost\")\n",
    "plt.show()"
   ]
  },
  {
   "cell_type": "markdown",
   "id": "90ad5f36-5ac9-430f-b5b1-96449f4a34b8",
   "metadata": {},
   "source": [
    " Confusion Matrix (XGBoost)\n",
    "\n",
    "True Negatives (27,739): Correctly predicted as No Default. ✅\n",
    "\n",
    "False Positives (256): Predicted Default, but it was No Default. ❌\n",
    "\n",
    "False Negatives (1,604): Predicted No Default, but it was actually Default. ❌\n",
    "\n",
    "True Positives (401): Correctly predicted as Default. ✅"
   ]
  },
  {
   "cell_type": "markdown",
   "id": "0648331a-26c3-4280-b105-dcdab2734313",
   "metadata": {},
   "source": [
    "📌 Observations:\n",
    "\n",
    "The model performs well on non-defaulters, but struggles to identify defaulters (high false negatives).\n",
    "Since defaults are costly for banks, improving recall is important."
   ]
  },
  {
   "cell_type": "markdown",
   "id": "342c4f9f-feb0-4b9c-8e72-c7453d9c043b",
   "metadata": {},
   "source": [
    "## Further Model Improvements"
   ]
  },
  {
   "cell_type": "markdown",
   "id": "6b4bfa43-e30f-4d9a-871f-323e80069ec5",
   "metadata": {},
   "source": [
    "##  Improvement 1: Handling Class Imbalance\n",
    "Use scale_pos_weight in XGBoost (automatic class balancing)."
   ]
  },
  {
   "cell_type": "code",
   "execution_count": 31,
   "id": "95915508-5432-4d1a-aaa3-4f97a573dbb8",
   "metadata": {},
   "outputs": [
    {
     "name": "stdout",
     "output_type": "stream",
     "text": [
      "Weighted XGBoost - F1-Score: 0.3485, AUC-ROC: 0.7712\n"
     ]
    }
   ],
   "source": [
    "# Calculate class imbalance ratio\n",
    "default_ratio = sum(y_train == 0) / sum(y_train == 1)\n",
    "\n",
    "# Initialize XGBoost with class weighting\n",
    "xgb_weighted = XGBClassifier(use_label_encoder=False, eval_metric=\"logloss\",\n",
    "                             scale_pos_weight=default_ratio, random_state=42)\n",
    "\n",
    "# Train the model\n",
    "xgb_weighted.fit(X_train, y_train)\n",
    "\n",
    "# Predictions\n",
    "y_pred_weighted = xgb_weighted.predict(X_test)\n",
    "\n",
    "# Evaluate performance\n",
    "f1_weighted = f1_score(y_test, y_pred_weighted)\n",
    "auc_weighted = roc_auc_score(y_test, y_pred_weighted)\n",
    "\n",
    "print(f\"Weighted XGBoost - F1-Score: {f1_weighted:.4f}, AUC-ROC: {auc_weighted:.4f}\")"
   ]
  },
  {
   "cell_type": "markdown",
   "id": "82ee3600-98aa-4058-a2f4-0f9e2820ce8b",
   "metadata": {},
   "source": [
    "## Improvement 2: Adjust Decision Threshold\n",
    "By default, models classify as 1 (default) if probability > 0.5.\n",
    "We can:\n",
    "\n",
    "Adjust the threshold to increase recall for defaulters.\n",
    "Optimize the threshold using Precision-Recall Curve."
   ]
  },
  {
   "cell_type": "code",
   "execution_count": 34,
   "id": "cb69cefd-79c0-4ce4-aa3f-d54da65e2484",
   "metadata": {},
   "outputs": [
    {
     "name": "stdout",
     "output_type": "stream",
     "text": [
      "Optimal Decision Threshold: 0.1849\n",
      "Adjusted XGBoost - F1-Score: 0.4500, AUC-ROC: 0.7333\n"
     ]
    }
   ],
   "source": [
    "from sklearn.metrics import precision_recall_curve\n",
    "\n",
    "# Get predicted probabilities\n",
    "y_proba = best_xgb.predict_proba(X_test)[:, 1]\n",
    "\n",
    "# Compute Precision-Recall Curve\n",
    "precisions, recalls, thresholds = precision_recall_curve(y_test, y_proba)\n",
    "\n",
    "# Find the threshold that balances precision & recall\n",
    "best_threshold = thresholds[np.argmax(precisions * recalls)]\n",
    "print(f\"Optimal Decision Threshold: {best_threshold:.4f}\")\n",
    "\n",
    "# Apply new threshold\n",
    "y_pred_adjusted = (y_proba > best_threshold).astype(int)\n",
    "\n",
    "# Evaluate performance\n",
    "f1_adjusted = f1_score(y_test, y_pred_adjusted)\n",
    "auc_adjusted = roc_auc_score(y_test, y_pred_adjusted)\n",
    "\n",
    "print(f\"Adjusted XGBoost - F1-Score: {f1_adjusted:.4f}, AUC-ROC: {auc_adjusted:.4f}\")"
   ]
  },
  {
   "cell_type": "markdown",
   "id": "d5e1f4a2-1ba2-4fa8-9043-588cb77a9e01",
   "metadata": {},
   "source": [
    "✅ Adding class weights (scale_pos_weight) significantly improved AUC-ROC to 0.7712, meaning the model is much better at distinguishing defaulters from non-defaulters.\n",
    "\n",
    "✅ Adjusting the decision threshold further boosted F1-Score to 0.4580, which means the model now balances precision & recall better.\n",
    "\n",
    "✅ Final Decision: Threshold Adjusted XGBoost is the best model! 🎯\n"
   ]
  },
  {
   "cell_type": "markdown",
   "id": "fa147ed9-03fd-4e0c-b7d1-641725a022e0",
   "metadata": {},
   "source": [
    "## Save the Final Model"
   ]
  },
  {
   "cell_type": "code",
   "execution_count": 35,
   "id": "ca028208-b67a-4d9d-aba1-47ca6872d26d",
   "metadata": {},
   "outputs": [
    {
     "name": "stdout",
     "output_type": "stream",
     "text": [
      "✅ Final Model, Scaler, and Decision Threshold saved successfully!\n"
     ]
    }
   ],
   "source": [
    "# Save the best XGBoost model\n",
    "joblib.dump(best_xgb, \"models/credit_scoring_xgb_best.pkl\")\n",
    "\n",
    "# Save the scaler for preprocessing new data\n",
    "joblib.dump(scaler, \"models/scaler.pkl\")\n",
    "\n",
    "# Save the best decision threshold for deployment\n",
    "joblib.dump(best_threshold, \"models/threshold.pkl\")\n",
    "\n",
    "print(\"✅ Final Model, Scaler, and Decision Threshold saved successfully!\")"
   ]
  },
  {
   "cell_type": "code",
   "execution_count": null,
   "id": "99efa817-b84b-43d8-8a66-be5feaa9e4b9",
   "metadata": {},
   "outputs": [],
   "source": []
  }
 ],
 "metadata": {
  "kernelspec": {
   "display_name": "Python 3 (ipykernel)",
   "language": "python",
   "name": "python3"
  },
  "language_info": {
   "codemirror_mode": {
    "name": "ipython",
    "version": 3
   },
   "file_extension": ".py",
   "mimetype": "text/x-python",
   "name": "python",
   "nbconvert_exporter": "python",
   "pygments_lexer": "ipython3",
   "version": "3.10.6"
  }
 },
 "nbformat": 4,
 "nbformat_minor": 5
}
